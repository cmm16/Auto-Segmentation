{
 "cells": [
  {
   "cell_type": "code",
   "execution_count": 20,
   "metadata": {
    "scrolled": true
   },
   "outputs": [
    {
     "name": "stdout",
     "output_type": "stream",
     "text": [
      "The autoreload extension is already loaded. To reload it, use:\n",
      "  %reload_ext autoreload\n"
     ]
    }
   ],
   "source": [
    "%load_ext autoreload\n",
    "%autoreload 2\n",
    "import sys\n",
    "sys.path.append('../functions')\n",
    "from model import get_unet\n",
    "from data import load_data\n",
    "from keras import backend as K\n",
    "import tensorflow as tf\n",
    "from sklearn.model_selection import train_test_split\n",
    "from keras.preprocessing.image import ImageDataGenerator\n",
    "import matplotlib.pyplot as plt\n",
    "from keras.callbacks import EarlyStopping"
   ]
  },
  {
   "cell_type": "code",
   "execution_count": 14,
   "metadata": {},
   "outputs": [
    {
     "name": "stderr",
     "output_type": "stream",
     "text": [
      "100%|██████████| 5088/5088 [00:02<00:00, 2070.72it/s]\n"
     ]
    }
   ],
   "source": [
    "x, y = load_data('../data/')"
   ]
  },
  {
   "cell_type": "code",
   "execution_count": 15,
   "metadata": {},
   "outputs": [],
   "source": [
    "x_train, x_test, y_train, y_test = train_test_split(x, y, test_size=0.33, random_state=42)"
   ]
  },
  {
   "cell_type": "code",
   "execution_count": 16,
   "metadata": {},
   "outputs": [],
   "source": [
    "from keras.optimizers import Adam\n",
    "\n",
    "model = get_unet(input_shape = (128, 128, 3))"
   ]
  },
  {
   "cell_type": "code",
   "execution_count": 21,
   "metadata": {},
   "outputs": [],
   "source": [
    "callbacks = [\n",
    "    EarlyStopping(monitor='val_acc', patience=3, verbose=0)\n",
    "]"
   ]
  },
  {
   "cell_type": "code",
   "execution_count": 22,
   "metadata": {},
   "outputs": [
    {
     "name": "stdout",
     "output_type": "stream",
     "text": [
      "Train on 2842 samples, validate on 566 samples\n",
      "Epoch 1/100\n",
      "2842/2842 [==============================] - 453s 159ms/step - loss: 2.3803 - acc: 0.8401 - val_loss: 2.6232 - val_acc: 0.8357\n",
      "Epoch 2/100\n",
      "2842/2842 [==============================] - 4646s 2s/step - loss: 1.0799 - acc: 0.9216 - val_loss: 1.5039 - val_acc: 0.9012\n",
      "Epoch 3/100\n",
      "2842/2842 [==============================] - 458s 161ms/step - loss: 0.6523 - acc: 0.9482 - val_loss: 1.2960 - val_acc: 0.9135\n",
      "Epoch 4/100\n",
      "2842/2842 [==============================] - 465s 163ms/step - loss: 0.5247 - acc: 0.9560 - val_loss: 0.9481 - val_acc: 0.9337\n",
      "Epoch 5/100\n",
      "2842/2842 [==============================] - 457s 161ms/step - loss: 0.4404 - acc: 0.9605 - val_loss: 0.7638 - val_acc: 0.9436\n",
      "Epoch 6/100\n",
      "2842/2842 [==============================] - 457s 161ms/step - loss: 0.3882 - acc: 0.9625 - val_loss: 0.6140 - val_acc: 0.9506\n",
      "Epoch 7/100\n",
      "2842/2842 [==============================] - 457s 161ms/step - loss: 0.3330 - acc: 0.9636 - val_loss: 0.4298 - val_acc: 0.9585\n",
      "Epoch 8/100\n",
      "2842/2842 [==============================] - 457s 161ms/step - loss: 0.2716 - acc: 0.9638 - val_loss: 0.3288 - val_acc: 0.9595\n",
      "Epoch 9/100\n",
      "2842/2842 [==============================] - 458s 161ms/step - loss: 0.1992 - acc: 0.9623 - val_loss: 0.2098 - val_acc: 0.9572\n",
      "Epoch 10/100\n",
      "2842/2842 [==============================] - 457s 161ms/step - loss: 0.1277 - acc: 0.9608 - val_loss: 0.1214 - val_acc: 0.9608\n",
      "Epoch 11/100\n",
      "2842/2842 [==============================] - 459s 162ms/step - loss: 0.0942 - acc: 0.9622 - val_loss: 0.0874 - val_acc: 0.9623\n",
      "Epoch 12/100\n",
      "2842/2842 [==============================] - 463s 163ms/step - loss: 0.0787 - acc: 0.9637 - val_loss: 0.0824 - val_acc: 0.9608\n",
      "Epoch 13/100\n",
      "2842/2842 [==============================] - 475s 167ms/step - loss: 0.0679 - acc: 0.9650 - val_loss: 0.0748 - val_acc: 0.9609\n",
      "Epoch 14/100\n",
      "2842/2842 [==============================] - 459s 162ms/step - loss: 0.0603 - acc: 0.9663 - val_loss: 0.0663 - val_acc: 0.9633\n",
      "Epoch 15/100\n",
      "2842/2842 [==============================] - 462s 162ms/step - loss: 0.0536 - acc: 0.9673 - val_loss: 0.0598 - val_acc: 0.9639\n",
      "Epoch 16/100\n",
      "2842/2842 [==============================] - 458s 161ms/step - loss: 0.0494 - acc: 0.9681 - val_loss: 0.0559 - val_acc: 0.9638\n",
      "Epoch 17/100\n",
      "2842/2842 [==============================] - 462s 163ms/step - loss: 0.0442 - acc: 0.9690 - val_loss: 0.0528 - val_acc: 0.9645\n",
      "Epoch 18/100\n",
      "2842/2842 [==============================] - 459s 162ms/step - loss: 0.0398 - acc: 0.9698 - val_loss: 0.0437 - val_acc: 0.9674\n",
      "Epoch 19/100\n",
      "2842/2842 [==============================] - 459s 161ms/step - loss: 0.0371 - acc: 0.9704 - val_loss: 0.0438 - val_acc: 0.9667\n",
      "Epoch 20/100\n",
      "2842/2842 [==============================] - 460s 162ms/step - loss: 0.0342 - acc: 0.9709 - val_loss: 0.0373 - val_acc: 0.9691\n",
      "Epoch 21/100\n",
      "2842/2842 [==============================] - 458s 161ms/step - loss: 0.0308 - acc: 0.9717 - val_loss: 0.0375 - val_acc: 0.9679\n",
      "Epoch 22/100\n",
      "2842/2842 [==============================] - 464s 163ms/step - loss: 0.0289 - acc: 0.9720 - val_loss: 0.0316 - val_acc: 0.9703\n",
      "Epoch 23/100\n",
      "2842/2842 [==============================] - 465s 164ms/step - loss: 0.0257 - acc: 0.9727 - val_loss: 0.0278 - val_acc: 0.9711\n",
      "Epoch 24/100\n",
      "2842/2842 [==============================] - 461s 162ms/step - loss: 0.0241 - acc: 0.9731 - val_loss: 0.0282 - val_acc: 0.9709\n",
      "Epoch 25/100\n",
      "2842/2842 [==============================] - 465s 164ms/step - loss: 0.0215 - acc: 0.9737 - val_loss: 0.0268 - val_acc: 0.9711\n",
      "Epoch 26/100\n",
      "2842/2842 [==============================] - 458s 161ms/step - loss: 0.0201 - acc: 0.9741 - val_loss: 0.0217 - val_acc: 0.9728\n",
      "Epoch 27/100\n",
      "2842/2842 [==============================] - 458s 161ms/step - loss: 0.0184 - acc: 0.9745 - val_loss: 0.0209 - val_acc: 0.9729\n",
      "Epoch 28/100\n",
      "2842/2842 [==============================] - 459s 161ms/step - loss: 0.0165 - acc: 0.9750 - val_loss: 0.0191 - val_acc: 0.9735\n",
      "Epoch 29/100\n",
      "2842/2842 [==============================] - 457s 161ms/step - loss: 0.0147 - acc: 0.9754 - val_loss: 0.0181 - val_acc: 0.9733\n",
      "Epoch 30/100\n",
      "2842/2842 [==============================] - 458s 161ms/step - loss: 0.0140 - acc: 0.9756 - val_loss: 0.0164 - val_acc: 0.9741\n",
      "Epoch 31/100\n",
      "2842/2842 [==============================] - 458s 161ms/step - loss: 0.0115 - acc: 0.9760 - val_loss: 0.0131 - val_acc: 0.9753\n",
      "Epoch 32/100\n",
      "2842/2842 [==============================] - 459s 161ms/step - loss: 0.0104 - acc: 0.9764 - val_loss: 0.0162 - val_acc: 0.9738\n",
      "Epoch 33/100\n",
      "2842/2842 [==============================] - 465s 164ms/step - loss: 0.0089 - acc: 0.9768 - val_loss: 0.0124 - val_acc: 0.9743\n",
      "Epoch 34/100\n",
      "2842/2842 [==============================] - 465s 164ms/step - loss: 0.0081 - acc: 0.9769 - val_loss: 0.0075 - val_acc: 0.9759\n",
      "Epoch 35/100\n",
      "2842/2842 [==============================] - 464s 163ms/step - loss: 0.0068 - acc: 0.9773 - val_loss: 0.0115 - val_acc: 0.9745\n",
      "Epoch 36/100\n",
      "2842/2842 [==============================] - 465s 164ms/step - loss: 0.0055 - acc: 0.9777 - val_loss: 0.0052 - val_acc: 0.9760\n",
      "Epoch 37/100\n",
      "2842/2842 [==============================] - 464s 163ms/step - loss: 0.0044 - acc: 0.9778 - val_loss: 0.0041 - val_acc: 0.9766\n",
      "Epoch 38/100\n",
      "2842/2842 [==============================] - 464s 163ms/step - loss: 0.0030 - acc: 0.9781 - val_loss: 0.0020 - val_acc: 0.9774\n",
      "Epoch 39/100\n",
      "2842/2842 [==============================] - 463s 163ms/step - loss: 0.0015 - acc: 0.9784 - val_loss: -6.9396e-05 - val_acc: 0.9775\n",
      "Epoch 40/100\n",
      "2842/2842 [==============================] - 458s 161ms/step - loss: 1.1739e-04 - acc: 0.9787 - val_loss: -0.0039 - val_acc: 0.9793\n",
      "Epoch 41/100\n",
      "2842/2842 [==============================] - 458s 161ms/step - loss: -1.6440e-04 - acc: 0.9788 - val_loss: -5.5663e-04 - val_acc: 0.9776\n",
      "Epoch 42/100\n",
      "2842/2842 [==============================] - 458s 161ms/step - loss: -0.0013 - acc: 0.9789 - val_loss: 7.5220e-05 - val_acc: 0.9774\n",
      "Epoch 43/100\n",
      "2842/2842 [==============================] - 459s 161ms/step - loss: -0.0023 - acc: 0.9792 - val_loss: -0.0051 - val_acc: 0.9782\n"
     ]
    },
    {
     "data": {
      "text/plain": [
       "<keras.callbacks.History at 0x7f97ac089e48>"
      ]
     },
     "execution_count": 22,
     "metadata": {},
     "output_type": "execute_result"
    }
   ],
   "source": [
    "model.fit(x_train, y_train, validation_split = 0.166, epochs = 100, callbacks = callbacks)"
   ]
  },
  {
   "cell_type": "code",
   "execution_count": 23,
   "metadata": {},
   "outputs": [],
   "source": [
    "model.save_weights('../weights/unet_weights.h5')"
   ]
  },
  {
   "cell_type": "code",
   "execution_count": 42,
   "metadata": {},
   "outputs": [
    {
     "data": {
      "text/plain": [
       "<matplotlib.image.AxesImage at 0x7f97a7b8a588>"
      ]
     },
     "execution_count": 42,
     "metadata": {},
     "output_type": "execute_result"
    },
    {
     "data": {
      "image/png": "[encoded data removed]",
      "text/plain": [
       "<Figure size 432x288 with 1 Axes>"
      ]
     },
     "metadata": {},
     "output_type": "display_data"
    }
   ],
   "source": [
    "import numpy as np\n",
    "im_num = 2\n",
    "prediction = np.expand_dims(model.predict(x_train[im_num:im_num + 1])[0, :, :, 0] > .1, axis = 2)\n",
    "plt.imshow(np.multiply(x_train[im_num], np.concatenate((prediction, prediction, prediction), axis = 2)))"
   ]
  }
 ],
 "metadata": {
  "kernelspec": {
   "display_name": "Python 3",
   "language": "python",
   "name": "python3"
  },
  "language_info": {
   "codemirror_mode": {
    "name": "ipython",
    "version": 3
   },
   "file_extension": ".py",
   "mimetype": "text/x-python",
   "name": "python",
   "nbconvert_exporter": "python",
   "pygments_lexer": "ipython3",
   "version": "3.6.4"
  }
 },
 "nbformat": 4,
 "nbformat_minor": 2
}
